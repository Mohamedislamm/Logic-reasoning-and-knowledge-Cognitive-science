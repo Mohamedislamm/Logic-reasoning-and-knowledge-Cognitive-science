{
  "nbformat": 4,
  "nbformat_minor": 0,
  "metadata": {
    "colab": {
      "provenance": []
    },
    "kernelspec": {
      "name": "python3",
      "display_name": "Python 3"
    },
    "language_info": {
      "name": "python"
    }
  },
  "cells": [
    {
      "cell_type": "markdown",
      "source": [
        "# Import Libraries"
      ],
      "metadata": {
        "id": "uCbzbsyoBri8"
      }
    },
    {
      "cell_type": "code",
      "execution_count": 9,
      "metadata": {
        "id": "MrwoA1861TFh"
      },
      "outputs": [],
      "source": [
        "from google.colab import files\n",
        "import re"
      ]
    },
    {
      "cell_type": "markdown",
      "source": [
        "# Rule Class Definition"
      ],
      "metadata": {
        "id": "IYpXRigDBu77"
      }
    },
    {
      "cell_type": "code",
      "source": [
        "class Rule:\n",
        "    \"\"\"Class to represent a production rule\"\"\"\n",
        "    def __init__(self, antecedents, consequent):\n",
        "        self.antecedents = antecedents  # List of conditions (ANDed together)\n",
        "        self.consequent = consequent    # Resulting fact\n"
      ],
      "metadata": {
        "id": "2Yyr-RqdBvHi"
      },
      "execution_count": 10,
      "outputs": []
    },
    {
      "cell_type": "markdown",
      "source": [
        "# File Parsing Functions"
      ],
      "metadata": {
        "id": "HRSI9RV-CDRf"
      }
    },
    {
      "cell_type": "code",
      "source": [
        "def parse_rules(content):\n",
        "    \"\"\"Parse the rules from text content\"\"\"\n",
        "    rules = []\n",
        "    for line in content.split('\\n'):\n",
        "        line = line.strip()\n",
        "        if not line or line.startswith('#'):\n",
        "            continue\n",
        "\n",
        "        # Split into IF and THEN parts\n",
        "        if ' THEN ' not in line:\n",
        "            continue\n",
        "\n",
        "        if_part, then_part = line.split(' THEN ', 1)\n",
        "        if_part = if_part.replace('IF ', '').strip()\n",
        "\n",
        "        # Handle OR conditions by splitting into separate rules\n",
        "        if ' OR ' in if_part:\n",
        "            or_parts = [p.strip() for p in if_part.split(' OR ')]\n",
        "            for part in or_parts:\n",
        "                antecedents = [a.strip() for a in part.split(' AND ')]\n",
        "                rules.append(Rule(antecedents, then_part.strip()))\n",
        "        else:\n",
        "            antecedents = [a.strip() for a in if_part.split(' AND ')]\n",
        "            rules.append(Rule(antecedents, then_part.strip()))\n",
        "    return rules\n",
        "\n",
        "def parse_facts(content):\n",
        "    \"\"\"Parse the initial facts from text content\"\"\"\n",
        "    facts = {}\n",
        "    for line in content.split('\\n'):\n",
        "        line = line.strip()\n",
        "        if not line or line.startswith('#'):\n",
        "            continue\n",
        "\n",
        "        if '=' in line:\n",
        "            key, value = line.split('=', 1)\n",
        "            facts[key.strip()] = value.strip()\n",
        "        else:\n",
        "            facts[line] = True\n",
        "\n",
        "    return facts"
      ],
      "metadata": {
        "id": "mkuCPLdoCAcn"
      },
      "execution_count": 11,
      "outputs": []
    },
    {
      "cell_type": "markdown",
      "source": [
        "# Condition Evaluation Function"
      ],
      "metadata": {
        "id": "wmhQmEjKCV16"
      }
    },
    {
      "cell_type": "code",
      "source": [
        "def evaluate_condition(condition, facts):\n",
        "    \"\"\"Evaluate if a condition is true given current facts\"\"\"\n",
        "    if '=' in condition:\n",
        "        key, val = condition.split('=', 1)\n",
        "        return facts.get(key.strip()) == val.strip()\n",
        "    elif '>' in condition:\n",
        "        var, val = condition.split('>', 1)\n",
        "        var = var.strip()\n",
        "        return var in facts and facts[var].isdigit() and int(facts[var]) > int(val.strip())\n",
        "    elif '<' in condition:\n",
        "        var, val = condition.split('<', 1)\n",
        "        var = var.strip()\n",
        "        return var in facts and facts[var].isdigit() and int(facts[var]) < int(val.strip())\n",
        "    else:\n",
        "        return condition in facts"
      ],
      "metadata": {
        "id": "hC8nRKFvCW_D"
      },
      "execution_count": 12,
      "outputs": []
    },
    {
      "cell_type": "markdown",
      "source": [
        "# Forward Chaining Algorithm"
      ],
      "metadata": {
        "id": "tVkmMKFeB6wL"
      }
    },
    {
      "cell_type": "code",
      "source": [
        "def forward_chaining(rules, initial_facts):\n",
        "    \"\"\"Implement forward chaining algorithm\"\"\"\n",
        "    facts = initial_facts.copy()\n",
        "    new_facts = True\n",
        "    cycle = 0\n",
        "\n",
        "    print(\"\\n=== Forward Chaining Process ===\")\n",
        "\n",
        "    while new_facts:\n",
        "        new_facts = False\n",
        "        cycle += 1\n",
        "        print(f\"\\nCycle {cycle} Facts: {sorted(facts.keys())}\")\n",
        "\n",
        "        for rule in rules:\n",
        "            # Check if all antecedents are satisfied\n",
        "            all_conditions_met = all(evaluate_condition(ant, facts) for ant in rule.antecedents)\n",
        "\n",
        "            if all_conditions_met:\n",
        "                consequent = rule.consequent\n",
        "                if consequent not in facts:\n",
        "                    facts[consequent] = True\n",
        "                    new_facts = True\n",
        "                    print(f\"  Inferred new fact: {consequent}\")\n",
        "    return facts"
      ],
      "metadata": {
        "id": "dY2aoffBCfUN"
      },
      "execution_count": 13,
      "outputs": []
    },
    {
      "cell_type": "markdown",
      "source": [
        "# Backward Chaining Algorith"
      ],
      "metadata": {
        "id": "pFHo0Qo1CivQ"
      }
    },
    {
      "cell_type": "code",
      "source": [
        "def backward_chaining(goal, rules, facts, depth=0, explored=None):\n",
        "    \"\"\"Implement backward chaining algorithm\"\"\"\n",
        "    if explored is None:\n",
        "        explored = set()\n",
        "\n",
        "    print(\"  \" * depth + f\"Checking goal: {goal}\")\n",
        "\n",
        "    # Base case: goal is already in facts\n",
        "    if evaluate_condition(goal, facts):\n",
        "        print(\"  \" * depth + f\"Found in facts: {goal}\")\n",
        "        return True\n",
        "\n",
        "    # Avoid cycles\n",
        "    if goal in explored:\n",
        "        print(\"  \" * depth + f\"Already explored: {goal}\")\n",
        "        return False\n",
        "\n",
        "    explored.add(goal)\n",
        "\n",
        "    # Find all rules that can conclude this goal\n",
        "    relevant_rules = [rule for rule in rules if rule.consequent == goal]\n",
        "\n",
        "    for rule in relevant_rules:\n",
        "        print(\"  \" * depth + f\"Trying rule: IF {' AND '.join(rule.antecedents)} THEN {rule.consequent}\")\n",
        "\n",
        "        # Check if all antecedents can be proven\n",
        "        all_proven = True\n",
        "        for ant in rule.antecedents:\n",
        "            if not backward_chaining(ant, rules, facts, depth+1, explored):\n",
        "                all_proven = False\n",
        "                break\n",
        "\n",
        "        if all_proven:\n",
        "            print(\"  \" * depth + f\"Proved all antecedents for: {goal}\")\n",
        "            return True\n",
        "\n",
        "    print(\"  \" * depth + f\"Could not prove: {goal}\")\n",
        "    return False"
      ],
      "metadata": {
        "id": "QXPl_q5nCm44"
      },
      "execution_count": 14,
      "outputs": []
    },
    {
      "cell_type": "markdown",
      "source": [
        "# Main Execution"
      ],
      "metadata": {
        "id": "s3_KoGq9Cr5Q"
      }
    },
    {
      "cell_type": "code",
      "source": [
        "def main():\n",
        "    # Upload files\n",
        "    print(\"Please upload rules.txt and facts.txt\")\n",
        "    uploaded = files.upload()\n",
        "\n",
        "    # Read and parse files\n",
        "    with open('rules.txt', 'r') as f:\n",
        "        rules = parse_rules(f.read())\n",
        "\n",
        "    with open('facts.txt', 'r') as f:\n",
        "        initial_facts = parse_facts(f.read())\n",
        "\n",
        "    # Process diameter to determine size\n",
        "    diameter = initial_facts.get('diameter')\n",
        "    if diameter and diameter.isdigit():\n",
        "        d = int(diameter)\n",
        "        if d < 2:\n",
        "            initial_facts['size is small'] = True\n",
        "        elif d > 10:\n",
        "            initial_facts['size is big'] = True\n",
        "        else:\n",
        "            initial_facts['size is medium'] = True\n",
        "\n",
        "    print(\"\\n=== Initial Facts ===\")\n",
        "    print(initial_facts)\n",
        "\n",
        "    # Forward Chaining\n",
        "    print(\"\\n=== Starting Forward Chaining ===\")\n",
        "    final_facts = forward_chaining(rules, initial_facts)\n",
        "\n",
        "    print(\"\\n=== Forward Chaining Results ===\")\n",
        "    print(\"Final Facts:\", sorted(final_facts.keys()))\n",
        "    print(\"citrus_fruit proven:\", 'citrus_fruit' in final_facts)\n",
        "\n",
        "    # Backward Chaining (using initial facts)\n",
        "    print(\"\\n=== Starting Backward Chaining ===\")\n",
        "    goal = 'citrus_fruit'\n",
        "    print(f\"\\nAttempting to prove goal: {goal}\")\n",
        "    result = backward_chaining(goal, rules, initial_facts)\n",
        "    print(f\"\\n=== Backward Chaining Result ===\")\n",
        "    print(f\"Goal '{goal}' is {'proven' if result else 'not proven'}\")\n",
        "\n",
        "if __name__ == \"__main__\":\n",
        "    main()"
      ],
      "metadata": {
        "colab": {
          "base_uri": "https://localhost:8080/",
          "height": 1000
        },
        "id": "oJNYcel-CtBV",
        "outputId": "428d6ceb-d306-46a9-952a-f70b6c11d742"
      },
      "execution_count": 15,
      "outputs": [
        {
          "output_type": "stream",
          "name": "stdout",
          "text": [
            "Please upload rules.txt and facts.txt\n"
          ]
        },
        {
          "output_type": "display_data",
          "data": {
            "text/plain": [
              "<IPython.core.display.HTML object>"
            ],
            "text/html": [
              "\n",
              "     <input type=\"file\" id=\"files-6aa798d8-4e86-4cde-a66b-33ce650dc261\" name=\"files[]\" multiple disabled\n",
              "        style=\"border:none\" />\n",
              "     <output id=\"result-6aa798d8-4e86-4cde-a66b-33ce650dc261\">\n",
              "      Upload widget is only available when the cell has been executed in the\n",
              "      current browser session. Please rerun this cell to enable.\n",
              "      </output>\n",
              "      <script>// Copyright 2017 Google LLC\n",
              "//\n",
              "// Licensed under the Apache License, Version 2.0 (the \"License\");\n",
              "// you may not use this file except in compliance with the License.\n",
              "// You may obtain a copy of the License at\n",
              "//\n",
              "//      http://www.apache.org/licenses/LICENSE-2.0\n",
              "//\n",
              "// Unless required by applicable law or agreed to in writing, software\n",
              "// distributed under the License is distributed on an \"AS IS\" BASIS,\n",
              "// WITHOUT WARRANTIES OR CONDITIONS OF ANY KIND, either express or implied.\n",
              "// See the License for the specific language governing permissions and\n",
              "// limitations under the License.\n",
              "\n",
              "/**\n",
              " * @fileoverview Helpers for google.colab Python module.\n",
              " */\n",
              "(function(scope) {\n",
              "function span(text, styleAttributes = {}) {\n",
              "  const element = document.createElement('span');\n",
              "  element.textContent = text;\n",
              "  for (const key of Object.keys(styleAttributes)) {\n",
              "    element.style[key] = styleAttributes[key];\n",
              "  }\n",
              "  return element;\n",
              "}\n",
              "\n",
              "// Max number of bytes which will be uploaded at a time.\n",
              "const MAX_PAYLOAD_SIZE = 100 * 1024;\n",
              "\n",
              "function _uploadFiles(inputId, outputId) {\n",
              "  const steps = uploadFilesStep(inputId, outputId);\n",
              "  const outputElement = document.getElementById(outputId);\n",
              "  // Cache steps on the outputElement to make it available for the next call\n",
              "  // to uploadFilesContinue from Python.\n",
              "  outputElement.steps = steps;\n",
              "\n",
              "  return _uploadFilesContinue(outputId);\n",
              "}\n",
              "\n",
              "// This is roughly an async generator (not supported in the browser yet),\n",
              "// where there are multiple asynchronous steps and the Python side is going\n",
              "// to poll for completion of each step.\n",
              "// This uses a Promise to block the python side on completion of each step,\n",
              "// then passes the result of the previous step as the input to the next step.\n",
              "function _uploadFilesContinue(outputId) {\n",
              "  const outputElement = document.getElementById(outputId);\n",
              "  const steps = outputElement.steps;\n",
              "\n",
              "  const next = steps.next(outputElement.lastPromiseValue);\n",
              "  return Promise.resolve(next.value.promise).then((value) => {\n",
              "    // Cache the last promise value to make it available to the next\n",
              "    // step of the generator.\n",
              "    outputElement.lastPromiseValue = value;\n",
              "    return next.value.response;\n",
              "  });\n",
              "}\n",
              "\n",
              "/**\n",
              " * Generator function which is called between each async step of the upload\n",
              " * process.\n",
              " * @param {string} inputId Element ID of the input file picker element.\n",
              " * @param {string} outputId Element ID of the output display.\n",
              " * @return {!Iterable<!Object>} Iterable of next steps.\n",
              " */\n",
              "function* uploadFilesStep(inputId, outputId) {\n",
              "  const inputElement = document.getElementById(inputId);\n",
              "  inputElement.disabled = false;\n",
              "\n",
              "  const outputElement = document.getElementById(outputId);\n",
              "  outputElement.innerHTML = '';\n",
              "\n",
              "  const pickedPromise = new Promise((resolve) => {\n",
              "    inputElement.addEventListener('change', (e) => {\n",
              "      resolve(e.target.files);\n",
              "    });\n",
              "  });\n",
              "\n",
              "  const cancel = document.createElement('button');\n",
              "  inputElement.parentElement.appendChild(cancel);\n",
              "  cancel.textContent = 'Cancel upload';\n",
              "  const cancelPromise = new Promise((resolve) => {\n",
              "    cancel.onclick = () => {\n",
              "      resolve(null);\n",
              "    };\n",
              "  });\n",
              "\n",
              "  // Wait for the user to pick the files.\n",
              "  const files = yield {\n",
              "    promise: Promise.race([pickedPromise, cancelPromise]),\n",
              "    response: {\n",
              "      action: 'starting',\n",
              "    }\n",
              "  };\n",
              "\n",
              "  cancel.remove();\n",
              "\n",
              "  // Disable the input element since further picks are not allowed.\n",
              "  inputElement.disabled = true;\n",
              "\n",
              "  if (!files) {\n",
              "    return {\n",
              "      response: {\n",
              "        action: 'complete',\n",
              "      }\n",
              "    };\n",
              "  }\n",
              "\n",
              "  for (const file of files) {\n",
              "    const li = document.createElement('li');\n",
              "    li.append(span(file.name, {fontWeight: 'bold'}));\n",
              "    li.append(span(\n",
              "        `(${file.type || 'n/a'}) - ${file.size} bytes, ` +\n",
              "        `last modified: ${\n",
              "            file.lastModifiedDate ? file.lastModifiedDate.toLocaleDateString() :\n",
              "                                    'n/a'} - `));\n",
              "    const percent = span('0% done');\n",
              "    li.appendChild(percent);\n",
              "\n",
              "    outputElement.appendChild(li);\n",
              "\n",
              "    const fileDataPromise = new Promise((resolve) => {\n",
              "      const reader = new FileReader();\n",
              "      reader.onload = (e) => {\n",
              "        resolve(e.target.result);\n",
              "      };\n",
              "      reader.readAsArrayBuffer(file);\n",
              "    });\n",
              "    // Wait for the data to be ready.\n",
              "    let fileData = yield {\n",
              "      promise: fileDataPromise,\n",
              "      response: {\n",
              "        action: 'continue',\n",
              "      }\n",
              "    };\n",
              "\n",
              "    // Use a chunked sending to avoid message size limits. See b/62115660.\n",
              "    let position = 0;\n",
              "    do {\n",
              "      const length = Math.min(fileData.byteLength - position, MAX_PAYLOAD_SIZE);\n",
              "      const chunk = new Uint8Array(fileData, position, length);\n",
              "      position += length;\n",
              "\n",
              "      const base64 = btoa(String.fromCharCode.apply(null, chunk));\n",
              "      yield {\n",
              "        response: {\n",
              "          action: 'append',\n",
              "          file: file.name,\n",
              "          data: base64,\n",
              "        },\n",
              "      };\n",
              "\n",
              "      let percentDone = fileData.byteLength === 0 ?\n",
              "          100 :\n",
              "          Math.round((position / fileData.byteLength) * 100);\n",
              "      percent.textContent = `${percentDone}% done`;\n",
              "\n",
              "    } while (position < fileData.byteLength);\n",
              "  }\n",
              "\n",
              "  // All done.\n",
              "  yield {\n",
              "    response: {\n",
              "      action: 'complete',\n",
              "    }\n",
              "  };\n",
              "}\n",
              "\n",
              "scope.google = scope.google || {};\n",
              "scope.google.colab = scope.google.colab || {};\n",
              "scope.google.colab._files = {\n",
              "  _uploadFiles,\n",
              "  _uploadFilesContinue,\n",
              "};\n",
              "})(self);\n",
              "</script> "
            ]
          },
          "metadata": {}
        },
        {
          "output_type": "stream",
          "name": "stdout",
          "text": [
            "Saving rules.txt to rules (1).txt\n",
            "Saving facts.txt to facts (1).txt\n",
            "\n",
            "=== Initial Facts ===\n",
            "{'seeds': '0', 'diameter': '7', 'skin_smell': True, 'color is orange': True, 'size is medium': True}\n",
            "\n",
            "=== Starting Forward Chaining ===\n",
            "\n",
            "=== Forward Chaining Process ===\n",
            "\n",
            "Cycle 1 Facts: ['color is orange', 'diameter', 'seeds', 'size is medium', 'skin_smell']\n",
            "  Inferred new fact: perfumed\n",
            "  Inferred new fact: fruit is orange\n",
            "\n",
            "Cycle 2 Facts: ['color is orange', 'diameter', 'fruit is orange', 'perfumed', 'seeds', 'size is medium', 'skin_smell']\n",
            "  Inferred new fact: citrus_fruit\n",
            "\n",
            "Cycle 3 Facts: ['citrus_fruit', 'color is orange', 'diameter', 'fruit is orange', 'perfumed', 'seeds', 'size is medium', 'skin_smell']\n",
            "\n",
            "=== Forward Chaining Results ===\n",
            "Final Facts: ['citrus_fruit', 'color is orange', 'diameter', 'fruit is orange', 'perfumed', 'seeds', 'size is medium', 'skin_smell']\n",
            "citrus_fruit proven: True\n",
            "\n",
            "=== Starting Backward Chaining ===\n",
            "\n",
            "Attempting to prove goal: citrus_fruit\n",
            "Checking goal: citrus_fruit\n",
            "Trying rule: IF fruit is lemon THEN citrus_fruit\n",
            "  Checking goal: fruit is lemon\n",
            "  Trying rule: IF size is medium AND color is yellow AND perfumed THEN fruit is lemon\n",
            "    Checking goal: size is medium\n",
            "    Found in facts: size is medium\n",
            "    Checking goal: color is yellow\n",
            "    Could not prove: color is yellow\n",
            "  Could not prove: fruit is lemon\n",
            "Trying rule: IF fruit is orange THEN citrus_fruit\n",
            "  Checking goal: fruit is orange\n",
            "  Trying rule: IF perfumed AND color is orange AND size is medium THEN fruit is orange\n",
            "    Checking goal: perfumed\n",
            "    Trying rule: IF skin_smell THEN perfumed\n",
            "      Checking goal: skin_smell\n",
            "      Found in facts: skin_smell\n",
            "    Proved all antecedents for: perfumed\n",
            "    Checking goal: color is orange\n",
            "    Found in facts: color is orange\n",
            "    Checking goal: size is medium\n",
            "    Found in facts: size is medium\n",
            "  Proved all antecedents for: fruit is orange\n",
            "Proved all antecedents for: citrus_fruit\n",
            "\n",
            "=== Backward Chaining Result ===\n",
            "Goal 'citrus_fruit' is proven\n"
          ]
        }
      ]
    }
  ]
}