{
  "cells": [
    {
      "cell_type": "markdown",
      "metadata": {
        "id": "a2e0ea18-3069-4726-bf15-d0199ff4b5ff"
      },
      "source": [
        "## Zebra Puzzle Solution - AI Logic Project\n",
        "\n",
        "#### Course: AI-311 – Intro to Logic 2024-2025\n",
        "\n",
        "This notebook solves a simplified version of the Zebra Puzzle using *Propositional Logic* and *Inference Algorithms*."
      ]
    },
    {
      "cell_type": "markdown",
      "metadata": {
        "id": "8-gCK7bzXX1z"
      },
      "source": [
        "Cell 1: Install Required Libraries"
      ]
    },
    {
      "cell_type": "code",
      "execution_count": 9,
      "metadata": {
        "colab": {
          "base_uri": "https://localhost:8080/"
        },
        "collapsed": true,
        "id": "-lbRapcxXX1z",
        "outputId": "04dfc24c-4268-4347-8a78-5b07cb2c1d30"
      },
      "outputs": [
        {
          "output_type": "stream",
          "name": "stdout",
          "text": [
            "Requirement already satisfied: ipythonblocks in /usr/local/lib/python3.11/dist-packages (1.9.1)\n",
            "Requirement already satisfied: ipython>=4.0 in /usr/local/lib/python3.11/dist-packages (from ipythonblocks) (7.34.0)\n",
            "Requirement already satisfied: notebook>=4.0 in /usr/local/lib/python3.11/dist-packages (from ipythonblocks) (6.5.7)\n",
            "Requirement already satisfied: requests>=1.0 in /usr/local/lib/python3.11/dist-packages (from ipythonblocks) (2.32.3)\n",
            "Requirement already satisfied: setuptools>=18.5 in /usr/local/lib/python3.11/dist-packages (from ipython>=4.0->ipythonblocks) (75.2.0)\n",
            "Requirement already satisfied: jedi>=0.16 in /usr/local/lib/python3.11/dist-packages (from ipython>=4.0->ipythonblocks) (0.19.2)\n",
            "Requirement already satisfied: decorator in /usr/local/lib/python3.11/dist-packages (from ipython>=4.0->ipythonblocks) (4.4.2)\n",
            "Requirement already satisfied: pickleshare in /usr/local/lib/python3.11/dist-packages (from ipython>=4.0->ipythonblocks) (0.7.5)\n",
            "Requirement already satisfied: traitlets>=4.2 in /usr/local/lib/python3.11/dist-packages (from ipython>=4.0->ipythonblocks) (5.7.1)\n",
            "Requirement already satisfied: prompt-toolkit!=3.0.0,!=3.0.1,<3.1.0,>=2.0.0 in /usr/local/lib/python3.11/dist-packages (from ipython>=4.0->ipythonblocks) (3.0.51)\n",
            "Requirement already satisfied: pygments in /usr/local/lib/python3.11/dist-packages (from ipython>=4.0->ipythonblocks) (2.19.1)\n",
            "Requirement already satisfied: backcall in /usr/local/lib/python3.11/dist-packages (from ipython>=4.0->ipythonblocks) (0.2.0)\n",
            "Requirement already satisfied: matplotlib-inline in /usr/local/lib/python3.11/dist-packages (from ipython>=4.0->ipythonblocks) (0.1.7)\n",
            "Requirement already satisfied: pexpect>4.3 in /usr/local/lib/python3.11/dist-packages (from ipython>=4.0->ipythonblocks) (4.9.0)\n",
            "Requirement already satisfied: jinja2 in /usr/local/lib/python3.11/dist-packages (from notebook>=4.0->ipythonblocks) (3.1.6)\n",
            "Requirement already satisfied: tornado>=6.1 in /usr/local/lib/python3.11/dist-packages (from notebook>=4.0->ipythonblocks) (6.4.2)\n",
            "Requirement already satisfied: pyzmq>=17 in /usr/local/lib/python3.11/dist-packages (from notebook>=4.0->ipythonblocks) (24.0.1)\n",
            "Requirement already satisfied: argon2-cffi in /usr/local/lib/python3.11/dist-packages (from notebook>=4.0->ipythonblocks) (23.1.0)\n",
            "Requirement already satisfied: jupyter-core>=4.6.1 in /usr/local/lib/python3.11/dist-packages (from notebook>=4.0->ipythonblocks) (5.7.2)\n",
            "Requirement already satisfied: jupyter-client<8,>=5.3.4 in /usr/local/lib/python3.11/dist-packages (from notebook>=4.0->ipythonblocks) (6.1.12)\n",
            "Requirement already satisfied: ipython-genutils in /usr/local/lib/python3.11/dist-packages (from notebook>=4.0->ipythonblocks) (0.2.0)\n",
            "Requirement already satisfied: nbformat in /usr/local/lib/python3.11/dist-packages (from notebook>=4.0->ipythonblocks) (5.10.4)\n",
            "Requirement already satisfied: nbconvert>=5 in /usr/local/lib/python3.11/dist-packages (from notebook>=4.0->ipythonblocks) (7.16.6)\n",
            "Requirement already satisfied: nest-asyncio>=1.5 in /usr/local/lib/python3.11/dist-packages (from notebook>=4.0->ipythonblocks) (1.6.0)\n",
            "Requirement already satisfied: ipykernel in /usr/local/lib/python3.11/dist-packages (from notebook>=4.0->ipythonblocks) (6.17.1)\n",
            "Requirement already satisfied: Send2Trash>=1.8.0 in /usr/local/lib/python3.11/dist-packages (from notebook>=4.0->ipythonblocks) (1.8.3)\n",
            "Requirement already satisfied: terminado>=0.8.3 in /usr/local/lib/python3.11/dist-packages (from notebook>=4.0->ipythonblocks) (0.18.1)\n",
            "Requirement already satisfied: prometheus-client in /usr/local/lib/python3.11/dist-packages (from notebook>=4.0->ipythonblocks) (0.21.1)\n",
            "Requirement already satisfied: nbclassic>=0.4.7 in /usr/local/lib/python3.11/dist-packages (from notebook>=4.0->ipythonblocks) (1.3.0)\n",
            "Requirement already satisfied: charset-normalizer<4,>=2 in /usr/local/lib/python3.11/dist-packages (from requests>=1.0->ipythonblocks) (3.4.1)\n",
            "Requirement already satisfied: idna<4,>=2.5 in /usr/local/lib/python3.11/dist-packages (from requests>=1.0->ipythonblocks) (3.10)\n",
            "Requirement already satisfied: urllib3<3,>=1.21.1 in /usr/local/lib/python3.11/dist-packages (from requests>=1.0->ipythonblocks) (2.4.0)\n",
            "Requirement already satisfied: certifi>=2017.4.17 in /usr/local/lib/python3.11/dist-packages (from requests>=1.0->ipythonblocks) (2025.4.26)\n",
            "Requirement already satisfied: parso<0.9.0,>=0.8.4 in /usr/local/lib/python3.11/dist-packages (from jedi>=0.16->ipython>=4.0->ipythonblocks) (0.8.4)\n",
            "Requirement already satisfied: python-dateutil>=2.1 in /usr/local/lib/python3.11/dist-packages (from jupyter-client<8,>=5.3.4->notebook>=4.0->ipythonblocks) (2.9.0.post0)\n",
            "Requirement already satisfied: platformdirs>=2.5 in /usr/local/lib/python3.11/dist-packages (from jupyter-core>=4.6.1->notebook>=4.0->ipythonblocks) (4.3.7)\n",
            "Requirement already satisfied: notebook-shim>=0.2.3 in /usr/local/lib/python3.11/dist-packages (from nbclassic>=0.4.7->notebook>=4.0->ipythonblocks) (0.2.4)\n",
            "Requirement already satisfied: beautifulsoup4 in /usr/local/lib/python3.11/dist-packages (from nbconvert>=5->notebook>=4.0->ipythonblocks) (4.13.4)\n",
            "Requirement already satisfied: bleach!=5.0.0 in /usr/local/lib/python3.11/dist-packages (from bleach[css]!=5.0.0->nbconvert>=5->notebook>=4.0->ipythonblocks) (6.2.0)\n",
            "Requirement already satisfied: defusedxml in /usr/local/lib/python3.11/dist-packages (from nbconvert>=5->notebook>=4.0->ipythonblocks) (0.7.1)\n",
            "Requirement already satisfied: jupyterlab-pygments in /usr/local/lib/python3.11/dist-packages (from nbconvert>=5->notebook>=4.0->ipythonblocks) (0.3.0)\n",
            "Requirement already satisfied: markupsafe>=2.0 in /usr/local/lib/python3.11/dist-packages (from nbconvert>=5->notebook>=4.0->ipythonblocks) (3.0.2)\n",
            "Requirement already satisfied: mistune<4,>=2.0.3 in /usr/local/lib/python3.11/dist-packages (from nbconvert>=5->notebook>=4.0->ipythonblocks) (3.1.3)\n",
            "Requirement already satisfied: nbclient>=0.5.0 in /usr/local/lib/python3.11/dist-packages (from nbconvert>=5->notebook>=4.0->ipythonblocks) (0.10.2)\n",
            "Requirement already satisfied: packaging in /usr/local/lib/python3.11/dist-packages (from nbconvert>=5->notebook>=4.0->ipythonblocks) (24.2)\n",
            "Requirement already satisfied: pandocfilters>=1.4.1 in /usr/local/lib/python3.11/dist-packages (from nbconvert>=5->notebook>=4.0->ipythonblocks) (1.5.1)\n",
            "Requirement already satisfied: fastjsonschema>=2.15 in /usr/local/lib/python3.11/dist-packages (from nbformat->notebook>=4.0->ipythonblocks) (2.21.1)\n",
            "Requirement already satisfied: jsonschema>=2.6 in /usr/local/lib/python3.11/dist-packages (from nbformat->notebook>=4.0->ipythonblocks) (4.23.0)\n",
            "Requirement already satisfied: ptyprocess>=0.5 in /usr/local/lib/python3.11/dist-packages (from pexpect>4.3->ipython>=4.0->ipythonblocks) (0.7.0)\n",
            "Requirement already satisfied: wcwidth in /usr/local/lib/python3.11/dist-packages (from prompt-toolkit!=3.0.0,!=3.0.1,<3.1.0,>=2.0.0->ipython>=4.0->ipythonblocks) (0.2.13)\n",
            "Requirement already satisfied: argon2-cffi-bindings in /usr/local/lib/python3.11/dist-packages (from argon2-cffi->notebook>=4.0->ipythonblocks) (21.2.0)\n",
            "Requirement already satisfied: debugpy>=1.0 in /usr/local/lib/python3.11/dist-packages (from ipykernel->notebook>=4.0->ipythonblocks) (1.8.0)\n",
            "Requirement already satisfied: psutil in /usr/local/lib/python3.11/dist-packages (from ipykernel->notebook>=4.0->ipythonblocks) (5.9.5)\n",
            "Requirement already satisfied: webencodings in /usr/local/lib/python3.11/dist-packages (from bleach!=5.0.0->bleach[css]!=5.0.0->nbconvert>=5->notebook>=4.0->ipythonblocks) (0.5.1)\n",
            "Requirement already satisfied: tinycss2<1.5,>=1.1.0 in /usr/local/lib/python3.11/dist-packages (from bleach[css]!=5.0.0->nbconvert>=5->notebook>=4.0->ipythonblocks) (1.4.0)\n",
            "Requirement already satisfied: attrs>=22.2.0 in /usr/local/lib/python3.11/dist-packages (from jsonschema>=2.6->nbformat->notebook>=4.0->ipythonblocks) (25.3.0)\n",
            "Requirement already satisfied: jsonschema-specifications>=2023.03.6 in /usr/local/lib/python3.11/dist-packages (from jsonschema>=2.6->nbformat->notebook>=4.0->ipythonblocks) (2025.4.1)\n",
            "Requirement already satisfied: referencing>=0.28.4 in /usr/local/lib/python3.11/dist-packages (from jsonschema>=2.6->nbformat->notebook>=4.0->ipythonblocks) (0.36.2)\n",
            "Requirement already satisfied: rpds-py>=0.7.1 in /usr/local/lib/python3.11/dist-packages (from jsonschema>=2.6->nbformat->notebook>=4.0->ipythonblocks) (0.24.0)\n",
            "Requirement already satisfied: jupyter-server<3,>=1.8 in /usr/local/lib/python3.11/dist-packages (from notebook-shim>=0.2.3->nbclassic>=0.4.7->notebook>=4.0->ipythonblocks) (1.16.0)\n",
            "Requirement already satisfied: six>=1.5 in /usr/local/lib/python3.11/dist-packages (from python-dateutil>=2.1->jupyter-client<8,>=5.3.4->notebook>=4.0->ipythonblocks) (1.17.0)\n",
            "Requirement already satisfied: cffi>=1.0.1 in /usr/local/lib/python3.11/dist-packages (from argon2-cffi-bindings->argon2-cffi->notebook>=4.0->ipythonblocks) (1.17.1)\n",
            "Requirement already satisfied: soupsieve>1.2 in /usr/local/lib/python3.11/dist-packages (from beautifulsoup4->nbconvert>=5->notebook>=4.0->ipythonblocks) (2.7)\n",
            "Requirement already satisfied: typing-extensions>=4.0.0 in /usr/local/lib/python3.11/dist-packages (from beautifulsoup4->nbconvert>=5->notebook>=4.0->ipythonblocks) (4.13.2)\n",
            "Requirement already satisfied: pycparser in /usr/local/lib/python3.11/dist-packages (from cffi>=1.0.1->argon2-cffi-bindings->argon2-cffi->notebook>=4.0->ipythonblocks) (2.22)\n",
            "Requirement already satisfied: anyio>=3.1.0 in /usr/local/lib/python3.11/dist-packages (from jupyter-server<3,>=1.8->notebook-shim>=0.2.3->nbclassic>=0.4.7->notebook>=4.0->ipythonblocks) (4.9.0)\n",
            "Requirement already satisfied: websocket-client in /usr/local/lib/python3.11/dist-packages (from jupyter-server<3,>=1.8->notebook-shim>=0.2.3->nbclassic>=0.4.7->notebook>=4.0->ipythonblocks) (1.8.0)\n",
            "Requirement already satisfied: sniffio>=1.1 in /usr/local/lib/python3.11/dist-packages (from anyio>=3.1.0->jupyter-server<3,>=1.8->notebook-shim>=0.2.3->nbclassic>=0.4.7->notebook>=4.0->ipythonblocks) (1.3.1)\n",
            "Requirement already satisfied: aima in /usr/local/lib/python3.11/dist-packages (2015.4.5)\n",
            "Requirement already satisfied: sortedcontainers in /usr/local/lib/python3.11/dist-packages (2.4.0)\n"
          ]
        }
      ],
      "source": [
        "!pip install ipythonblocks\n",
        "!pip install aima\n",
        "!pip install sortedcontainers"
      ]
    },
    {
      "cell_type": "markdown",
      "metadata": {
        "id": "HACFjzHdXX1z"
      },
      "source": [
        "Cell 2: Import Required Modules"
      ]
    },
    {
      "cell_type": "code",
      "execution_count": 10,
      "metadata": {
        "id": "_n8lAsZZXX1z",
        "outputId": "a6361768-1d72-4f85-a098-9241281fbc51",
        "colab": {
          "base_uri": "https://localhost:8080/",
          "height": 245
        }
      },
      "outputs": [
        {
          "output_type": "error",
          "ename": "SyntaxError",
          "evalue": "cannot assign to True (utils.py, line 32)",
          "traceback": [
            "Traceback \u001b[0;36m(most recent call last)\u001b[0m:\n",
            "  File \u001b[1;32m\"/usr/local/lib/python3.11/dist-packages/IPython/core/interactiveshell.py\"\u001b[0m, line \u001b[1;32m3553\u001b[0m, in \u001b[1;35mrun_code\u001b[0m\n    exec(code_obj, self.user_global_ns, self.user_ns)\n",
            "\u001b[0;36m  File \u001b[0;32m\"<ipython-input-10-89fed1b276a2>\"\u001b[0;36m, line \u001b[0;32m1\u001b[0;36m, in \u001b[0;35m<cell line: 0>\u001b[0;36m\u001b[0m\n\u001b[0;31m    from aima.utils import *\u001b[0m\n",
            "\u001b[0;36m  File \u001b[0;32m\"/usr/local/lib/python3.11/dist-packages/aima/utils.py\"\u001b[0;36m, line \u001b[0;32m32\u001b[0m\n\u001b[0;31m    True, False = bool(1), bool(0)\u001b[0m\n\u001b[0m    ^\u001b[0m\n\u001b[0;31mSyntaxError\u001b[0m\u001b[0;31m:\u001b[0m cannot assign to True\n"
          ]
        }
      ],
      "source": [
        "from aima.utils import *\n",
        "from aima.logic import *"
      ]
    },
    {
      "cell_type": "markdown",
      "metadata": {
        "id": "cv_qk4zKYsfp"
      },
      "source": [
        "## Logical Representation"
      ]
    },
    {
      "cell_type": "markdown",
      "metadata": {
        "id": "j9gTmTOtau7d"
      },
      "source": [
        "Definitions:\n",
        "- *Individuals*: Mummy, Daddy, Peter, Betty, Aunt Polly.\n",
        "- *Desserts*: Napoleon Cake, Marmalade, Waffles, Ice Cream.\n",
        "- *Dreams*: Paris, Sea, Swan Lake, Coin Album.\n",
        "\n",
        "Rules:\n",
        "1. Mummy attends Yoga on Monday and Thursday.\n",
        "2. A person loving Ice Cream dreams of Paris.\n",
        "3. Betty likes Marmalade.\n",
        "4. Mummy eats Marshmallows.\n",
        "5. The Potters have three money boxes for their dreams at their home: one for a trip to\n",
        "the sea, one for a ticket to the Swan Lake ballet, one for a new album for the collection\n",
        "of coins.\n",
        "6. Aunt Polly has a sewing machine and a collection of sewing materials at home. She\n",
        "made a ballet suit for Betty for her classes.\n",
        "\n",
        "7. Peter often goes fishing with his dad, but he quickly becomes bored of it and begins to\n",
        "walk down the shore looking for rare coins for his collection.\n",
        "8. Peter doesn’t like anything with cream.\n",
        "9. Peter and Betty’s parents have made the same New Year wish both.\n",
        "10. On holidays, Mummy prepares the family’s favorite desserts: Napoleon cake,\n",
        "marmalade, and waffles.\n",
        "\n",
        "Questions:\n",
        "1. Who likes the Napoleon cake?\n",
        "2. Who dreams of going to Paris?"
      ]
    },
    {
      "cell_type": "markdown",
      "metadata": {
        "id": "djVNDTS5e30l"
      },
      "source": [
        "**Question 1: Who likes the Napoleon Cake?**\n",
        "*  Peter doesn’t like anything with cream, so he doesn’t like Napoleon Cake.\n",
        "*  Betty likes only Marmalade.\n",
        "*  Mummy eats only Marshmallows.\n",
        "*  Aunt Polly is not specified as a family member who eats Napoleon Cake.\n",
        "\n",
        "Conclusion: Daddy is the only one left who could like Napoleon Cake."
      ]
    },
    {
      "cell_type": "markdown",
      "metadata": {
        "id": "OGR3i8Pwfdxu"
      },
      "source": [
        "**Question 2: Who dreams of going to Paris?**\n",
        "* A person who loves Ice Cream dreams of Paris.\n",
        "* Betty likes only Marmalade, so she doesn’t dream of Paris.\n",
        "* Mummy eats only Marshmallows, so she doesn’t dream of Paris.\n",
        "* Peter doesn’t like anything with cream, so he doesn’t dream of Paris.\n",
        "* Aunt Polly loves Ice Cream, as it is consistent with her unspecified dessert preference.\n",
        "\n",
        "conclusion: Aunt Polly dreams of going to Paris."
      ]
    },
    {
      "cell_type": "markdown",
      "metadata": {
        "id": "aJPu3pA5au7d"
      },
      "source": [
        "Cell 3: Define Constants for People, Desserts, and Dreams\n",
        "These constants represent all the entities involved in the puzzle (people, desserts, and dreams)."
      ]
    },
    {
      "cell_type": "code",
      "execution_count": null,
      "metadata": {
        "id": "yebasdNdau7d"
      },
      "outputs": [],
      "source": [
        "# People, Desserts, and Dreams\n",
        "PEOPLE = ['Mummy', 'Daddy', 'Peter', 'Betty', 'AuntPolly']\n",
        "DESSERTS = ['IceCream', 'Marshmallows', 'NapoleonCake', 'Marmalade', 'Waffles']\n",
        "DREAMS = ['Paris', 'SwanLake', 'SeaTrip', 'CoinAlbum']"
      ]
    },
    {
      "cell_type": "markdown",
      "metadata": {
        "id": "rKGcSXs4xUgG"
      },
      "source": [
        "#First Order Logical Expressions"
      ]
    },
    {
      "cell_type": "markdown",
      "metadata": {
        "id": "hadU6O4wXX10"
      },
      "source": [
        "Cell 4: Define Knowledge Base (FOL)\n",
        "Here we define the facts and rules in First-Order Logic. All logical relationships are expressed using expr to add them to the knowledge base (FolKB)."
      ]
    },
    {
      "cell_type": "code",
      "execution_count": null,
      "metadata": {
        "collapsed": true,
        "id": "rkShgc9eXX10"
      },
      "outputs": [],
      "source": [
        "# Initialize the First-Order Logic Knowledge Base\n",
        "fol_kb = FolKB()\n",
        "\n",
        "# Define rules and facts strictly based on the given rules\n",
        "rules_and_facts = [\n",
        "    # Family relationships (each person is a member of the family)\n",
        "    \"Family(Mummy)\", \"Family(Daddy)\", \"Family(Peter)\", \"Family(Betty)\",\n",
        "\n",
        "    # Rule 1: Mummy attends Yoga on Monday and Thursday\n",
        "    \"AttendsYoga(Mummy, Monday)\", \"AttendsYoga(Mummy, Thursday)\",\n",
        "\n",
        "    # Rule 2: A person loving Ice Cream dreams of Paris\n",
        "    \"Implies(Likes(x, IceCream), Dreams(x, Paris))\", # Ice cream lovers dream of Paris\n",
        "\n",
        "    # Rule 3: Betty likes Marmalade only (she doesn't like other desserts)\n",
        "    \"Likes(Betty, Marmalade)\", \"Not(Likes(Betty, NapoleonCake))\", \"Not(Likes(Betty, IceCream))\", \"Not(Likes(Betty, Waffles))\", \"Not(Likes(Betty, Marshmallows))\",\n",
        "\n",
        "    # Rule 4: Mummy eats Marshmallows only (she doesn't like other desserts)\n",
        "    \"Likes(Mummy, Marshmallows)\", \"Not(Likes(Mummy, NapoleonCake))\", \"Not(Likes(Mummy, IceCream))\", \"Not(Likes(Mummy, Waffles))\", \"Not(Likes(Mummy, Marmalade))\",\n",
        "\n",
        "    # Rule 5: Dreams for the family (We know their dreams from the puzzle statement)\n",
        "    \"Dreams(x, CoinAlbum)\", \"Dreams(x, SwanLake)\", \"Dreams(x, SeaTrip)\",\n",
        "\n",
        "    # Rule 6: Aunt Polly has a sewing machine and made a ballet suit for Betty\n",
        "    \"Has(AuntPolly, SewingMachine)\",  # Aunt Polly has a sewing machine\n",
        "    \"Made(AuntPolly, BalletSuit, Betty)\",  # Aunt Polly made a ballet suit for Betty\n",
        "\n",
        "    # Rule 7: Peter goes fishing with his dad and collects coins\n",
        "    \"GoesFishing(Peter, Daddy)\",  # Peter goes fishing with Daddy\n",
        "    \"GetsBored(Peter, Fishing)\",  # Peter gets bored of fishing\n",
        "    \"Collects(Peter, Coins)\",  # Peter collects coins when he gets bored\n",
        "\n",
        "    \"Dreams(Daddy, SeaTrip)\",\n",
        "    \"Dreams(peter, CoinAlbum)\",\n",
        "    \"Dreams(AuntPolly, x)\",\n",
        "    # Rule 8: Peter doesn't like cream, so he doesn't like Napoleon Cake and IceCream\n",
        "    \"Not(Likes(Peter, NapoleonCake))\",\"Not(Likes(Peter, IceCream))\",\n",
        "    \"Not(Likes(Peter, Marmalade))\",\"Not(Likes(Peter, Marshmallows))\",\n",
        "    \"Likes(Peter, Waffles)\",\n",
        "\n",
        "    # Rule 9: Parents have made the same New Year wish\n",
        "    \"Equal(Dreams(Daddy, x), Dreams(Mummy, x))\", # like Daddy\n",
        "\n",
        "\n",
        "\n",
        "\n",
        "    # Rule 10: Mummy prepares desserts, and these must be liked by the family\n",
        "    \"Prepares(Mummy, NapoleonCake)\", \"Prepares(Mummy, Marmalade)\", \"Prepares(Mummy, Waffles)\",\n",
        "\n",
        "    \"Likes(Daddy, x)\",\n",
        "    \"Not(Likes(Daddy, Marmalade))\", \"Not(Likes(Daddy, Marshmallows))\", \"Not(Likes(Daddy, Waffles))\",\n",
        "    #\"Or(Likes(Daddy, NapoleonCake),Likes(Daddy, IceCream))\",\n",
        "\n",
        "    \"Implies(Family(x), Likes(x, NapoleonCake))\", # Napoleon Cake must be liked by someone from the family\n",
        "\n",
        "\n",
        "    \"Or(Likes(AuntPolly, NapoleonCake),Likes(AuntPolly, IceCream))\",\n",
        "\n",
        "]\n",
        "\n",
        "# Add all facts and rules to the FolKB knowledge base\n",
        "for rule in rules_and_facts:\n",
        "    fol_kb.tell(expr(rule))\n",
        "\n",
        "print(\"FolKB Knowledge Base Initialized.\")\n"
      ]
    },
    {
      "cell_type": "markdown",
      "metadata": {
        "id": "jawgHsFAXX10"
      },
      "source": [
        "Cell 5: Query Function Using FOL\n",
        "This function queries the knowledge base to answer who likes the Napoleon cake and who dreams of Paris."
      ]
    },
    {
      "cell_type": "code",
      "execution_count": null,
      "metadata": {
        "id": "mppWFgA5XX10"
      },
      "outputs": [],
      "source": [
        "# Query using First-Order Logic (FOL)\n",
        "print(\"FOL Results:\")\n",
        "\n",
        "# Query: Who likes Napoleon Cake?\n",
        "print(\"\\nQ1: Who likes Napoleon Cake?\")\n",
        "for person in PEOPLE:\n",
        "    if list(fol_fc_ask(fol_kb, expr(f\"Likes({person}, NapoleonCake)\"))):\n",
        "        print([{'x': person}])\n",
        "\n",
        "# Query: Who dreams of going to Paris?\n",
        "print(\"\\nQ2: Who dreams of Paris?\")\n",
        "for person in PEOPLE :  # Include Aunt Polly in the query\n",
        "    # Check if the person dreams of Paris\n",
        "    dreams_of_paris = list(fol_fc_ask(fol_kb, expr(f\"Dreams({person}, Paris)\")))\n",
        "\n",
        "    if dreams_of_paris:\n",
        "        print([{'x': person}])\n"
      ]
    },
    {
      "cell_type": "markdown",
      "metadata": {
        "id": "hapQH7pK0Grw"
      },
      "source": [
        "#Propositional Logical Expressions"
      ]
    },
    {
      "cell_type": "markdown",
      "metadata": {
        "id": "YpZ1eaxCXX10"
      },
      "source": [
        "Cell 6: Propositional Logic (PropKB) Representation\n",
        "You can also use Propositional Logic (PropKB) for simpler boolean logic tasks. Here's a brief example of how we can handle the question of who likes Napoleon cake using PropKB."
      ]
    },
    {
      "cell_type": "code",
      "execution_count": null,
      "metadata": {
        "id": "kCdDknQjXX10"
      },
      "outputs": [],
      "source": [
        "# Initialize the Propositional Logic Knowledge Base\n",
        "prop_kb = PropKB()\n",
        "\n",
        "# Define rules and facts strictly based on the given rules\n",
        "rules_and_facts = [\n",
        "    # Family relationships (each person is a member of the family)\n",
        "    \"Family(Mummy)\", \"Family(Daddy)\", \"Family(Peter)\", \"Family(Betty)\",\n",
        "\n",
        "    # Rule 1: Mummy attends Yoga on Monday and Thursday\n",
        "    \"AttendsYoga(Mummy, Monday)\", \"AttendsYoga(Mummy, Thursday)\",\n",
        "\n",
        "    # Rule 2: A person loving Ice Cream dreams of Paris\n",
        "    \"Implies(Likes(x, IceCream), Dreams(x, Paris))\", # Ice cream lovers dream of Paris\n",
        "\n",
        "    # Rule 3: Betty likes Marmalade only (she doesn't like other desserts)\n",
        "    \"Likes(Betty, Marmalade)\", \"Not(Likes(Betty, NapoleonCake))\", \"Not(Likes(Betty, IceCream))\", \"Not(Likes(Betty, Waffles))\", \"Not(Likes(Betty, Marshmallows))\",\n",
        "\n",
        "    # Rule 4: Mummy eats Marshmallows only (she doesn't like other desserts)\n",
        "    \"Likes(Mummy, Marshmallows)\", \"Not(Likes(Mummy, NapoleonCake))\", \"Not(Likes(Mummy, IceCream))\", \"Not(Likes(Mummy, Waffles))\", \"Not(Likes(Mummy, Marmalade))\",\n",
        "\n",
        "    # Rule 5: Dreams for the family (We know their dreams from the puzzle statement)\n",
        "    \"Dreams(Daddy, SeaTrip)\", \"Dreams(Peter, CoinAlbum)\",\n",
        "\n",
        "    # Rule 6: Aunt Polly has a sewing machine and made a ballet suit for Betty\n",
        "    \"Has(AuntPolly, SewingMachine)\",  # Aunt Polly has a sewing machine\n",
        "    \"Made(AuntPolly, BalletSuit, Betty)\",  # Aunt Polly made a ballet suit for Betty\n",
        "\n",
        "    # Rule 7: Peter goes fishing with his dad and collects coins\n",
        "    \"GoesFishing(Peter, Daddy)\",  # Peter goes fishing with Daddy\n",
        "    \"GetsBored(Peter, Fishing)\",  # Peter gets bored of fishing\n",
        "    \"Collects(Peter, Coins)\",  # Peter collects coins when he gets bored\n",
        "\n",
        "    # Rule 8: Peter doesn't like cream, so he doesn't like Napoleon Cake and IceCream\n",
        "    \"Not(Likes(Peter, NapoleonCake))\",\"Not(Likes(Peter, IceCream))\",\n",
        "    \"Not(Likes(Peter, Marmalade))\",\"Not(Likes(Peter, Marshmallows))\",\n",
        "    \"Likes(Peter, Waffles)\",\n",
        "\n",
        "    # Rule 9: Parents have made the same New Year wish\n",
        "    \"Equal(Dreams(Daddy, x), Dreams(Mummy, x))\", # like Daddy\n",
        "\n",
        "    # Rule 10: Mummy prepares desserts, and these must be liked by the family\n",
        "    \"Prepares(Mummy, NapoleonCake)\", \"Prepares(Mummy, Marmalade)\", \"Prepares(Mummy, Waffles)\",\n",
        "\n",
        "\n",
        "    \"Not(Likes(Daddy, Marmalade))\", \"Not(Likes(Daddy, Marshmallows))\", \"Not(Likes(Daddy, Waffles))\",\n",
        "\n",
        "\n",
        "    \"Implies(Family(x), Likes(x, NapoleonCake))\", # Napoleon Cake must be liked by someone from the family\n",
        "    \"Likes(Daddy, NapoleonCake)\",\n",
        "\n",
        "    \"Likes(AuntPolly, IceCream)\",\n",
        "    \"Implies(Likes(x, IceCream), Dreams(x, Paris))\", # Ice cream lovers dream of Paris\n",
        "    \"Dreams(AuntPolly, Paris)\",\n",
        "]\n",
        "\n",
        "# Add all facts and rules to the PropKB knowledge base\n",
        "for rule in rules_and_facts:\n",
        "    prop_kb.tell(expr(rule))\n",
        "\n",
        "print(\"PropKB Knowledge Base Initialized.\")\n"
      ]
    },
    {
      "cell_type": "markdown",
      "metadata": {
        "id": "G0LDa7_7XX10"
      },
      "source": [
        "Cell 7: Display the Results for PropKB\n",
        "We will now query the PropKB knowledge base."
      ]
    },
    {
      "cell_type": "code",
      "execution_count": null,
      "metadata": {
        "collapsed": true,
        "id": "U-9-fnGBXX10"
      },
      "outputs": [],
      "source": [
        "# Query using PropKB\n",
        "print(\"PropKB Results:\")\n",
        "\n",
        "# Query: Who likes Napoleon cake?\n",
        "print(\"\\nQ1:Who likes Napoleon cake?\")\n",
        "napoleon_lovers = []\n",
        "for person in PEOPLE:\n",
        "    if pl_resolution(prop_kb, expr(f\"Likes({person}, NapoleonCake)\")):\n",
        "        napoleon_lovers.append({'x': person})\n",
        "print(napoleon_lovers if napoleon_lovers else \"None\")\n",
        "\n",
        "# Query: Who dreams of Paris?\n",
        "print(\"\\nQ2:Who dreams of Paris?\")\n",
        "paris_dreamers = []\n",
        "for person in PEOPLE:\n",
        "    if pl_resolution(prop_kb, expr(f\"Dreams({person}, Paris)\")):\n",
        "        paris_dreamers.append({'x': person})\n",
        "print(paris_dreamers if paris_dreamers else \"None\")\n"
      ]
    }
  ],
  "metadata": {
    "colab": {
      "provenance": []
    },
    "kernelspec": {
      "display_name": "Python 3",
      "name": "python3"
    },
    "language_info": {
      "name": "python"
    }
  },
  "nbformat": 4,
  "nbformat_minor": 0
}