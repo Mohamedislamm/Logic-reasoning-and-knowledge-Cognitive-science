{
  "nbformat": 4,
  "nbformat_minor": 0,
  "metadata": {
    "colab": {
      "provenance": []
    },
    "kernelspec": {
      "name": "python3",
      "display_name": "Python 3"
    },
    "language_info": {
      "name": "python"
    }
  },
  "cells": [
    {
      "cell_type": "markdown",
      "source": [
        "1: Define Terms"
      ],
      "metadata": {
        "id": "6PyHqsbQxXfz"
      }
    },
    {
      "cell_type": "code",
      "source": [
        "import random\n",
        "import string\n",
        "\n",
        "# Constants\n",
        "POP_SIZE = 500\n",
        "MUT_RATE = 0.1\n",
        "TARGET = \"computational cognitive science\"\n",
        "GENES = 'abcdefghijklmnopqrstuvwxyz '"
      ],
      "metadata": {
        "id": "pGUIKS0xxXuy"
      },
      "execution_count": 33,
      "outputs": []
    },
    {
      "cell_type": "markdown",
      "source": [
        "2: Initialization"
      ],
      "metadata": {
        "id": "6QMh1eKzxaSX"
      }
    },
    {
      "cell_type": "code",
      "source": [
        "def initialize_population():\n",
        "    \"\"\"Create initial random population\"\"\"\n",
        "    return [''.join(random.choice(GENES) for _ in range(len(TARGET)))\n",
        "            for _ in range(POP_SIZE)]"
      ],
      "metadata": {
        "id": "BHO9Sddex4A0"
      },
      "execution_count": 34,
      "outputs": []
    },
    {
      "cell_type": "markdown",
      "source": [
        "3: Selection (Top 50%)"
      ],
      "metadata": {
        "id": "70gUntXWxckA"
      }
    },
    {
      "cell_type": "code",
      "source": [
        "def select_parents(population):\n",
        "    \"\"\"Return top 50% of population sorted by fitness\"\"\"\n",
        "    return sorted(population, key=calculate_fitness, reverse=True)[:POP_SIZE//2]"
      ],
      "metadata": {
        "id": "Gw0gBakvx5UO"
      },
      "execution_count": 35,
      "outputs": []
    },
    {
      "cell_type": "markdown",
      "source": [
        "4: Fitness Calculation"
      ],
      "metadata": {
        "id": "DuFG5aq6xeQZ"
      }
    },
    {
      "cell_type": "code",
      "source": [
        "def calculate_fitness(chromosome):\n",
        "    \"\"\"Count exact character matches with TARGET\"\"\"\n",
        "    return sum(1 for c, t in zip(chromosome, TARGET) if c == t)"
      ],
      "metadata": {
        "id": "uAugNZMix64y"
      },
      "execution_count": 36,
      "outputs": []
    },
    {
      "cell_type": "markdown",
      "source": [
        "5: Crossover"
      ],
      "metadata": {
        "id": "FscIZBGexe3G"
      }
    },
    {
      "cell_type": "code",
      "source": [
        "def crossover(parents):\n",
        "    \"\"\"Create offspring through single-point crossover\"\"\"\n",
        "    offspring = []\n",
        "    while len(offspring) < (POP_SIZE - len(parents)):\n",
        "        p1, p2 = random.choices(parents, k=2)\n",
        "        point = random.randint(1, len(TARGET)-1)\n",
        "        offspring.append(p1[:point] + p2[point:])\n",
        "    return offspring"
      ],
      "metadata": {
        "id": "91MqG_Bax82t"
      },
      "execution_count": 37,
      "outputs": []
    },
    {
      "cell_type": "markdown",
      "source": [
        "6: Mutation"
      ],
      "metadata": {
        "id": "zRbNK8VUxhqT"
      }
    },
    {
      "cell_type": "code",
      "source": [
        "def mutate(offspring):\n",
        "    \"\"\"Apply mutations to offspring\"\"\"\n",
        "    return [''.join(random.choice(GENES) if random.random() < MUT_RATE else char\n",
        "            for char in child) for child in offspring]"
      ],
      "metadata": {
        "id": "F_FUd78gx-ai"
      },
      "execution_count": 38,
      "outputs": []
    },
    {
      "cell_type": "markdown",
      "source": [
        "7: Replacement"
      ],
      "metadata": {
        "id": "HIjCQYBsxjw_"
      }
    },
    {
      "cell_type": "code",
      "source": [
        "def replace_population(parents, offspring):\n",
        "    \"\"\"Combine best parents and new offspring\"\"\"\n",
        "    new_population = parents + offspring\n",
        "    # Ensure we maintain exact population size\n",
        "    return new_population[:POP_SIZE]"
      ],
      "metadata": {
        "id": "nLijqmooyQiE"
      },
      "execution_count": 39,
      "outputs": []
    },
    {
      "cell_type": "markdown",
      "source": [
        "8: Main Function"
      ],
      "metadata": {
        "id": "pHbIqcnbxk1q"
      }
    },
    {
      "cell_type": "code",
      "source": [
        "def genetic_algorithm():\n",
        "    population = initialize_population()\n",
        "    generation = 0\n",
        "\n",
        "    while True:\n",
        "        current_best = max(population, key=calculate_fitness)\n",
        "        current_fitness = calculate_fitness(current_best)\n",
        "\n",
        "        # Your requested output format\n",
        "        print(f\"Generation {generation} | Best: {current_best} | Fitness: {current_fitness}\")\n",
        "\n",
        "        if current_best == TARGET:\n",
        "            print(f\"\\nTarget reached in {generation} generations!\")\n",
        "            return\n",
        "\n",
        "        # Genetic operations\n",
        "        parents = select_parents(population)\n",
        "        offspring = crossover(parents)\n",
        "        mutated_offspring = mutate(offspring)\n",
        "        population = replace_population(parents, mutated_offspring)  # Using replacement function\n",
        "\n",
        "        generation += 1\n",
        "        if generation > 1000:\n",
        "            print(\"\\nMaximum generations reached\")\n",
        "            return\n",
        "\n",
        "# Run\n",
        "genetic_algorithm()"
      ],
      "metadata": {
        "colab": {
          "base_uri": "https://localhost:8080/"
        },
        "id": "A50y_lIryR5l",
        "outputId": "2eab9930-7ae1-43f4-cae0-1ad74d023e57"
      },
      "execution_count": 40,
      "outputs": [
        {
          "output_type": "stream",
          "name": "stdout",
          "text": [
            "Generation 0 | Best: w lauaa jybneicsyfuonfwwjuiefag | Fitness: 5\n",
            "Generation 1 | Best: w lauaa jybneicsyfuonfwwjuiefag | Fitness: 5\n",
            "Generation 2 | Best: phpqfzrrdonoysqrgnctigbkfls kn  | Fitness: 6\n",
            "Generation 3 | Best: eoyguhaztopqwqqggeipnqsvshcituy | Fitness: 7\n",
            "Generation 4 | Best: eoyguhaztopqwqqggeipnqsvshcituy | Fitness: 7\n",
            "Generation 5 | Best: cryfvsvkfenalljvdmidiilfhcygccw | Fitness: 8\n",
            "Generation 6 | Best: mvrpuqabiukiw cafnrtboojshndnps | Fitness: 10\n",
            "Generation 7 | Best: mvrpuqabiukiw cafnrtboojshndnps | Fitness: 10\n",
            "Generation 8 | Best: mvrpuqabiukiw cafnrtboojshndnps | Fitness: 10\n",
            "Generation 9 | Best: mczguhaiiocapinowbrtaywpsciewms | Fitness: 11\n",
            "Generation 10 | Best: mczguhaiiocapinowbrtaywpsciewms | Fitness: 11\n",
            "Generation 11 | Best: mczguhaiiocapinowbrtaywpsciewms | Fitness: 11\n",
            "Generation 12 | Best: mczguhaiiocapinowbrtaywpsciewms | Fitness: 11\n",
            "Generation 13 | Best: monnusa jynap lognokfvpnrmjejce | Fitness: 13\n",
            "Generation 14 | Best: adoluhaz obalgjxd iwiyo scienck | Fitness: 14\n",
            "Generation 15 | Best: adoluhaz obalgjxd iwiyo scienck | Fitness: 14\n",
            "Generation 16 | Best: adoluhaz obalgjxd iwiyo scienck | Fitness: 14\n",
            "Generation 17 | Best: wvwpumatikbal txekittobhsciecce | Fitness: 16\n",
            "Generation 18 | Best: wvwpumatikbal txekittobhsciecce | Fitness: 16\n",
            "Generation 19 | Best: csfmudatiskalnwvgnotiij scqevce | Fitness: 17\n",
            "Generation 20 | Best: csfmudatiskalnwvgnotiij scqevce | Fitness: 17\n",
            "Generation 21 | Best: csfmudatiskalnwvgnotiij scqevce | Fitness: 17\n",
            "Generation 22 | Best: conpuqddgunalkconniykvykscienck | Fitness: 18\n",
            "Generation 23 | Best: conpuqddgunalkconniykvykscienck | Fitness: 18\n",
            "Generation 24 | Best: conpuqddgunalkconniykvykscienck | Fitness: 18\n",
            "Generation 25 | Best: conpuqddgunalkconniykvykscienck | Fitness: 18\n",
            "Generation 26 | Best: wympufatpocal lvgntticc vcieace | Fitness: 19\n",
            "Generation 27 | Best: wympufatpocal lvgntticc vcieace | Fitness: 19\n",
            "Generation 28 | Best: wympufatpocal lvgntticc vcieace | Fitness: 19\n",
            "Generation 29 | Best: corfuda ionalqjkgngtife nlience | Fitness: 20\n",
            "Generation 30 | Best: corfuda ionalqjkgngtife nlience | Fitness: 20\n",
            "Generation 31 | Best: corfuda ionalqjkgngtife nlience | Fitness: 20\n",
            "Generation 32 | Best: corfuda ionalqjkgngtife nlience | Fitness: 20\n",
            "Generation 33 | Best: cxmfutapdocalxcogaitivtdsciknce | Fitness: 21\n",
            "Generation 34 | Best: cohpufatikial togohtiveqscietce | Fitness: 22\n",
            "Generation 35 | Best: cohpufatikial togohtiveqscietce | Fitness: 22\n",
            "Generation 36 | Best: cohpufatikial togohtiveqscietce | Fitness: 22\n",
            "Generation 37 | Best: cohpufatikial togohtiveqscietce | Fitness: 22\n",
            "Generation 38 | Best: compugaqilnaikcoggitive scienck | Fitness: 24\n",
            "Generation 39 | Best: compugaqilnaikcoggitive scienck | Fitness: 24\n",
            "Generation 40 | Best: compuaaiionalxcogaitiay science | Fitness: 25\n",
            "Generation 41 | Best: compuaaiionalxcogaitiay science | Fitness: 25\n",
            "Generation 42 | Best: compuaaiionalxcogaitiay science | Fitness: 25\n",
            "Generation 43 | Best: compuaaiionalxcogaitiay science | Fitness: 25\n",
            "Generation 44 | Best: compuaaiionalxcogaitiay science | Fitness: 25\n",
            "Generation 45 | Best: compuaaiionalxcogaitiay science | Fitness: 25\n",
            "Generation 46 | Best: compuaaiionalxcogaitiay science | Fitness: 25\n",
            "Generation 47 | Best: compuaaiionalxcogaitiay science | Fitness: 25\n",
            "Generation 48 | Best: compuhatwonalucogxitive scifnce | Fitness: 26\n",
            "Generation 49 | Best: compuhatwonalucogxitive scifnce | Fitness: 26\n",
            "Generation 50 | Best: compuhatwonalucogxitive scifnce | Fitness: 26\n",
            "Generation 51 | Best: compuhatwonalucogxitive scifnce | Fitness: 26\n",
            "Generation 52 | Best: compuhatwonalucogxitive scifnce | Fitness: 26\n",
            "Generation 53 | Best: compuhatwonalucogxitive scifnce | Fitness: 26\n",
            "Generation 54 | Best: compuhatwonalucogxitive scifnce | Fitness: 26\n",
            "Generation 55 | Best: compdtationag coggctive science | Fitness: 27\n",
            "Generation 56 | Best: compdtationag coggctive science | Fitness: 27\n",
            "Generation 57 | Best: lomputational cognotivf science | Fitness: 28\n",
            "Generation 58 | Best: lomputational cognotivf science | Fitness: 28\n",
            "Generation 59 | Best: computational cognotivf science | Fitness: 29\n",
            "Generation 60 | Best: computational cognotivf science | Fitness: 29\n",
            "Generation 61 | Best: computational cognotivf science | Fitness: 29\n",
            "Generation 62 | Best: computational cognotivf science | Fitness: 29\n",
            "Generation 63 | Best: computational cognotivf science | Fitness: 29\n",
            "Generation 64 | Best: computational cognotivf science | Fitness: 29\n",
            "Generation 65 | Best: computational cognotivf science | Fitness: 29\n",
            "Generation 66 | Best: computational cognotivf science | Fitness: 29\n",
            "Generation 67 | Best: computational cognotivf science | Fitness: 29\n",
            "Generation 68 | Best: computational cognotivf science | Fitness: 29\n",
            "Generation 69 | Best: computational cognotivf science | Fitness: 29\n",
            "Generation 70 | Best: computational cognotivf science | Fitness: 29\n",
            "Generation 71 | Best: computational cognotivf science | Fitness: 29\n",
            "Generation 72 | Best: computational cognotivf science | Fitness: 29\n",
            "Generation 73 | Best: computational cognotivf science | Fitness: 29\n",
            "Generation 74 | Best: computational cognotivf science | Fitness: 29\n",
            "Generation 75 | Best: computational cognotivf science | Fitness: 29\n",
            "Generation 76 | Best: computational cognotivf science | Fitness: 29\n",
            "Generation 77 | Best: computational cognotivf science | Fitness: 29\n",
            "Generation 78 | Best: computational cognotivf science | Fitness: 29\n",
            "Generation 79 | Best: computational cognotivf science | Fitness: 29\n",
            "Generation 80 | Best: computational cognitile science | Fitness: 30\n",
            "Generation 81 | Best: computational cognitive science | Fitness: 31\n",
            "\n",
            "Target reached in 81 generations!\n"
          ]
        }
      ]
    }
  ]
}
