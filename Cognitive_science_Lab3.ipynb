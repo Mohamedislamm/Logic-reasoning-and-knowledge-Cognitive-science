{
  "nbformat": 4,
  "nbformat_minor": 0,
  "metadata": {
    "colab": {
      "provenance": []
    },
    "kernelspec": {
      "name": "python3",
      "display_name": "Python 3"
    },
    "language_info": {
      "name": "python"
    }
  },
  "cells": [
    {
      "cell_type": "code",
      "execution_count": 1,
      "metadata": {
        "id": "t3kflKDJw8Zl"
      },
      "outputs": [],
      "source": [
        "### Problem 1"
      ]
    },
    {
      "cell_type": "code",
      "source": [
        "n = [1 , 2 , 3 , 4 , 5 , 6 , 7 , 8 , 9 , 10 , 11 , 23 , 15 ]\n",
        "even_numbers = [num for num in n if num % 2 == 0 ]\n",
        "divisible_3_and_5 = [num for num in n if num % 3 == 0 and num % 5 == 0 ]\n",
        "\n",
        "print(\"Even numbers:\", even_numbers)\n",
        "print(\"Probability of selecting even number:\", len(even_numbers) / len(n))\n",
        "print(\"Numbers divisible by 3 and 5:\", divisible_3_and_5)\n",
        "print(\"Probability of selecting a number divisible by 3 and 5:\", len(divisible_3_and_5) / len(n))"
      ],
      "metadata": {
        "colab": {
          "base_uri": "https://localhost:8080/"
        },
        "id": "x-vypMaRxaVG",
        "outputId": "c5e36f27-b7dc-4e39-aa08-7263b812283c"
      },
      "execution_count": 2,
      "outputs": [
        {
          "output_type": "stream",
          "name": "stdout",
          "text": [
            "Even numbers: [2, 4, 6, 8, 10]\n",
            "Probability of selecting even number: 0.38461538461538464\n",
            "Numbers divisible by 3 and 5: [15]\n",
            "Probability of selecting a number divisible by 3 and 5: 0.07692307692307693\n"
          ]
        }
      ]
    },
    {
      "cell_type": "code",
      "source": [
        "### Problem 2"
      ],
      "metadata": {
        "id": "irc7w7YExbAz"
      },
      "execution_count": 3,
      "outputs": []
    },
    {
      "cell_type": "code",
      "source": [
        "Coin =[0,1]\n",
        "\n",
        "is_heads=[num for num in Coin if num==1 ]\n",
        "is_tails=[num for num in Coin if num==0 ]\n",
        "is_heads_or_tails=[num for num in Coin if num==1 or num==0]\n",
        "is_neither_head_nor_tail=[num for num in Coin if num!=1 and num!=0]\n",
        "\n",
        "print(\"Probability of getting heads or tails:\", len(is_heads_or_tails)/len(Coin))\n",
        "print(\"Probability of getting heads:\", len(is_heads)/len(Coin))\n",
        "print(\"Probability of getting tails:\", len(is_tails)/len(Coin))\n",
        "print(\"Probability of getting neither heads or tails:\", len(is_neither_head_nor_tail)/len(Coin))"
      ],
      "metadata": {
        "colab": {
          "base_uri": "https://localhost:8080/"
        },
        "id": "evvPRlRExbJe",
        "outputId": "c287116a-48e0-4e84-e168-980ed75055d3"
      },
      "execution_count": 4,
      "outputs": [
        {
          "output_type": "stream",
          "name": "stdout",
          "text": [
            "Probability of getting heads or tails: 1.0\n",
            "Probability of getting heads: 0.5\n",
            "Probability of getting tails: 0.5\n",
            "Probability of getting neither heads or tails: 0.0\n"
          ]
        }
      ]
    },
    {
      "cell_type": "code",
      "source": [
        "### Problem 3"
      ],
      "metadata": {
        "id": "DN9eqiJ6xbWr"
      },
      "execution_count": 5,
      "outputs": []
    },
    {
      "cell_type": "code",
      "source": [
        "AllStudents = {'Ahmed','Mohamed','Wael','Peter','Sherif','Noha','Mona','Sally','Dina','Mary'}\n",
        "\n",
        "EventA = {'Ahmed','Mohamed','Wael','Peter','Sally','Dina','Mary'} #Students who like music\n",
        "\n",
        "EventB = {'Ahmed','Mohamed','Wael','Peter','Sherif','Mary'} #Students who like football\n",
        "\n",
        "EventC = {'Ahmed','Mohamed','Wael','Peter','Mary'} #Students who like both\n",
        "\n",
        "\n",
        "n = len(AllStudents)\n",
        "\n",
        "music_or_football=[name for name in AllStudents if (name in EventA) or (name in EventB)]\n",
        "music_but_not_football=[name for name in AllStudents if (name in EventA) and (name not in EventB)]\n",
        "neither_music_nor_football=[name for name in AllStudents if (name not in EventA) and (name not in EventB)]\n",
        "\n",
        "\n",
        "print(n)\n",
        "print(\"probability a random student likes music:\", len(EventA)/n)\n",
        "print(\"probability a random student likes football:\", len(EventB)/n)\n",
        "print(\"probability a random student likes both music and football:\", len(EventC)/n)\n",
        "print(\"probability a random student likes both music or football:\", len(music_or_football)/n)\n",
        "print(\"probability that he likes neither of them:\", len(neither_music_nor_football)/n)\n",
        "print(\"probability that he likes music but not football:\", len(music_but_not_football)/n)"
      ],
      "metadata": {
        "colab": {
          "base_uri": "https://localhost:8080/"
        },
        "id": "2BvHdZZoxbkW",
        "outputId": "21b11bc6-a908-4f39-d9ac-a95cf774efb3"
      },
      "execution_count": 6,
      "outputs": [
        {
          "output_type": "stream",
          "name": "stdout",
          "text": [
            "10\n",
            "probability a random student likes music: 0.7\n",
            "probability a random student likes football: 0.6\n",
            "probability a random student likes both music and football: 0.5\n",
            "probability a random student likes both music or football: 0.8\n",
            "probability that he likes neither of them: 0.2\n",
            "probability that he likes music but not football: 0.2\n"
          ]
        }
      ]
    },
    {
      "cell_type": "code",
      "source": [
        "### Problem 4"
      ],
      "metadata": {
        "id": "xlsX5SLWxbtL"
      },
      "execution_count": 7,
      "outputs": []
    },
    {
      "cell_type": "code",
      "source": [
        "import numpy as np\n",
        "import random\n",
        "\n",
        "for label, (x, flips) in {\"100\": (100, 1000), \"1000\": (1000, 10000)}.items():\n",
        "    arr = np.random.choice([0, 1], size=(x, flips))\n",
        "    head, tail = np.sum(arr), np.size(arr) - np.sum(arr)\n",
        "    print(f\"Results for the {label} dataset:\")\n",
        "    print(f\"Total number of heads: {head}\")\n",
        "    print(f\"Total number of tails: {tail}\")\n",
        "    print(f\"Probability of getting heads: {head / arr.size:.2%}\")\n",
        "    print(f\"Probability of getting tails: {tail / arr.size:.2%}\\n\")\n"
      ],
      "metadata": {
        "colab": {
          "base_uri": "https://localhost:8080/"
        },
        "id": "r_RVkHw7xb3A",
        "outputId": "df9b8af3-4a67-41c4-9736-6743213444b3"
      },
      "execution_count": 8,
      "outputs": [
        {
          "output_type": "stream",
          "name": "stdout",
          "text": [
            "Results for the 100 dataset:\n",
            "Total number of heads: 49795\n",
            "Total number of tails: 50205\n",
            "Probability of getting heads: 49.80%\n",
            "Probability of getting tails: 50.20%\n",
            "\n",
            "Results for the 1000 dataset:\n",
            "Total number of heads: 5001279\n",
            "Total number of tails: 4998721\n",
            "Probability of getting heads: 50.01%\n",
            "Probability of getting tails: 49.99%\n",
            "\n"
          ]
        }
      ]
    }
  ]
}